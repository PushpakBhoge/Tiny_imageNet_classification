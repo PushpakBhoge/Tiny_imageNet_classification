{
 "cells": [
  {
   "cell_type": "code",
   "execution_count": null,
   "metadata": {
    "colab": {
     "base_uri": "https://localhost:8080/"
    },
    "executionInfo": {
     "elapsed": 24930,
     "status": "ok",
     "timestamp": 1610943514478,
     "user": {
      "displayName": "Pushpak Bhoge",
      "photoUrl": "https://lh3.googleusercontent.com/a-/AOh14GiYXMxQyGCoLk6_fZs-7gOauNGCMlUm_le5rpZfNmo=s64",
      "userId": "01669069531915800774"
     },
     "user_tz": -330
    },
    "id": "_Y23cRZL4b9j",
    "outputId": "9850fa25-7130-4b18-944a-8b3d7bc4d527"
   },
   "outputs": [
    {
     "name": "stdout",
     "output_type": "stream",
     "text": [
      "Mounted at /content/gdrive\n"
     ]
    }
   ],
   "source": [
    "from google.colab import drive\n",
    "drive.mount('/content/gdrive')"
   ]
  },
  {
   "cell_type": "code",
   "execution_count": null,
   "metadata": {
    "id": "JJQsxTuV4b9m"
   },
   "outputs": [],
   "source": [
    "!unzip -q \"/content/gdrive/MyDrive/Colab/Assignment/Data/archive.zip\" -d /content/Data"
   ]
  },
  {
   "cell_type": "code",
   "execution_count": null,
   "metadata": {
    "id": "fOnyUI8zt3C0"
   },
   "outputs": [],
   "source": [
    "GDRIVE_PROJ_DIR = \"/content/gdrive/MyDrive/Colab/Assignment\"\n",
    "BASE_DATA_DIR = \"/content/Data/tiny-imagenet-200\"\n",
    "\n",
    "TRAIN_DIR = os.path.join(BASE_DATA_DIR, 'train')\n",
    "VAL_DIR = os.path.join(BASE_DATA_DIR,'val')"
   ]
  },
  {
   "cell_type": "code",
   "execution_count": null,
   "metadata": {
    "id": "uwHtys0auAJh"
   },
   "outputs": [],
   "source": [
    "import os\n",
    "\n",
    "#Check if there are any multiclass labels in sub folders\n",
    "class_folders = os.listdir(TRAIN_DIR)\n",
    "for folder in class_folders:\n",
    "    sub_folder = os.listdir(os.path.join(TRAIN_DIR, folder))\n",
    "    if len(sub_folder) > 2:\n",
    "        print(\"Found one anomoly\", sub_folder)"
   ]
  },
  {
   "cell_type": "code",
   "execution_count": 48,
   "metadata": {
    "executionInfo": {
     "elapsed": 1295,
     "status": "ok",
     "timestamp": 1610949629500,
     "user": {
      "displayName": "Pushpak Bhoge",
      "photoUrl": "https://lh3.googleusercontent.com/a-/AOh14GiYXMxQyGCoLk6_fZs-7gOauNGCMlUm_le5rpZfNmo=s64",
      "userId": "01669069531915800774"
     },
     "user_tz": -330
    },
    "id": "dZEJ2-t2vNuV"
   },
   "outputs": [],
   "source": [
    "import json\n",
    "\n",
    "# Create mapping from encoded class string to class name\n",
    "label_mapping = {}\n",
    "labels_in_train = os.listdir(TRAIN_DIR)\n",
    "\n",
    "with open(os.path.join(BASE_DATA_DIR, 'words.txt'), 'r') as file:\n",
    "    for line in file:\n",
    "        info = line.split('\\t')\n",
    "        if info[0] in labels_in_train:\n",
    "            label_mapping[info[0]] = info[1].strip()\n",
    "with open(os.path.join(GDRIVE_PROJ_DIR, 'label_mapping.json'), 'w') as file:\n",
    "    json.dump(label_mapping, file)"
   ]
  },
  {
   "cell_type": "code",
   "execution_count": 55,
   "metadata": {
    "executionInfo": {
     "elapsed": 1180,
     "status": "ok",
     "timestamp": 1610949897736,
     "user": {
      "displayName": "Pushpak Bhoge",
      "photoUrl": "https://lh3.googleusercontent.com/a-/AOh14GiYXMxQyGCoLk6_fZs-7gOauNGCMlUm_le5rpZfNmo=s64",
      "userId": "01669069531915800774"
     },
     "user_tz": -330
    },
    "id": "p6gzFtLCw37J"
   },
   "outputs": [],
   "source": [
    "# Creating train.csv to be used for training\n",
    "\n",
    "data = {\n",
    "    'image_path':[],\n",
    "    'class_code':[],\n",
    "    'class_name':[]\n",
    "}\n",
    "\n",
    "for class_code in class_folders:\n",
    "    images = os.listdir(os.path.join(TRAIN_DIR, class_code, 'images'))\n",
    "    for image in images:\n",
    "        data['image_path'].append(os.path.join(class_code,'images', image))\n",
    "        data['class_code'].append(class_code)\n",
    "        data['class_name'].append(label_mapping[class_code])"
   ]
  },
  {
   "cell_type": "code",
   "execution_count": 82,
   "metadata": {
    "colab": {
     "base_uri": "https://localhost:8080/",
     "height": 204
    },
    "executionInfo": {
     "elapsed": 1362,
     "status": "ok",
     "timestamp": 1610951188292,
     "user": {
      "displayName": "Pushpak Bhoge",
      "photoUrl": "https://lh3.googleusercontent.com/a-/AOh14GiYXMxQyGCoLk6_fZs-7gOauNGCMlUm_le5rpZfNmo=s64",
      "userId": "01669069531915800774"
     },
     "user_tz": -330
    },
    "id": "ARJMx4tz0on3",
    "outputId": "202d99d4-8706-457f-ed8e-e8c5297f14f0"
   },
   "outputs": [
    {
     "data": {
      "text/html": [
       "<div>\n",
       "<style scoped>\n",
       "    .dataframe tbody tr th:only-of-type {\n",
       "        vertical-align: middle;\n",
       "    }\n",
       "\n",
       "    .dataframe tbody tr th {\n",
       "        vertical-align: top;\n",
       "    }\n",
       "\n",
       "    .dataframe thead th {\n",
       "        text-align: right;\n",
       "    }\n",
       "</style>\n",
       "<table border=\"1\" class=\"dataframe\">\n",
       "  <thead>\n",
       "    <tr style=\"text-align: right;\">\n",
       "      <th></th>\n",
       "      <th>image_path</th>\n",
       "      <th>class_code</th>\n",
       "      <th>class_name</th>\n",
       "    </tr>\n",
       "  </thead>\n",
       "  <tbody>\n",
       "    <tr>\n",
       "      <th>0</th>\n",
       "      <td>n03126707/images/n03126707_344.JPEG</td>\n",
       "      <td>n03126707</td>\n",
       "      <td>crane</td>\n",
       "    </tr>\n",
       "    <tr>\n",
       "      <th>1</th>\n",
       "      <td>n02437312/images/n02437312_328.JPEG</td>\n",
       "      <td>n02437312</td>\n",
       "      <td>Arabian camel, dromedary, Camelus dromedarius</td>\n",
       "    </tr>\n",
       "    <tr>\n",
       "      <th>2</th>\n",
       "      <td>n02113799/images/n02113799_124.JPEG</td>\n",
       "      <td>n02113799</td>\n",
       "      <td>standard poodle</td>\n",
       "    </tr>\n",
       "    <tr>\n",
       "      <th>3</th>\n",
       "      <td>n03980874/images/n03980874_261.JPEG</td>\n",
       "      <td>n03980874</td>\n",
       "      <td>poncho</td>\n",
       "    </tr>\n",
       "    <tr>\n",
       "      <th>4</th>\n",
       "      <td>n03649909/images/n03649909_208.JPEG</td>\n",
       "      <td>n03649909</td>\n",
       "      <td>lawn mower, mower</td>\n",
       "    </tr>\n",
       "  </tbody>\n",
       "</table>\n",
       "</div>"
      ],
      "text/plain": [
       "                            image_path  ...                                     class_name\n",
       "0  n03126707/images/n03126707_344.JPEG  ...                                          crane\n",
       "1  n02437312/images/n02437312_328.JPEG  ...  Arabian camel, dromedary, Camelus dromedarius\n",
       "2  n02113799/images/n02113799_124.JPEG  ...                                standard poodle\n",
       "3  n03980874/images/n03980874_261.JPEG  ...                                         poncho\n",
       "4  n03649909/images/n03649909_208.JPEG  ...                              lawn mower, mower\n",
       "\n",
       "[5 rows x 3 columns]"
      ]
     },
     "execution_count": 82,
     "metadata": {
      "tags": []
     },
     "output_type": "execute_result"
    }
   ],
   "source": [
    "import pandas as pd \n",
    "\n",
    "train_csv = pd.DataFrame(data)\n",
    "\n",
    "train_csv = train_csv.sample(frac=1, random_state=27).reset_index(drop=True)\n",
    "train_csv.to_csv(os.path.join(GDRIVE_PROJ_DIR, 'train.csv'), index=False)\n",
    "train_csv.head()"
   ]
  },
  {
   "cell_type": "code",
   "execution_count": 76,
   "metadata": {
    "colab": {
     "base_uri": "https://localhost:8080/",
     "height": 571
    },
    "executionInfo": {
     "elapsed": 4303,
     "status": "ok",
     "timestamp": 1610950734214,
     "user": {
      "displayName": "Pushpak Bhoge",
      "photoUrl": "https://lh3.googleusercontent.com/a-/AOh14GiYXMxQyGCoLk6_fZs-7gOauNGCMlUm_le5rpZfNmo=s64",
      "userId": "01669069531915800774"
     },
     "user_tz": -330
    },
    "id": "2Cu_gaOXGQfb",
    "outputId": "d6ada306-1ed8-4b5a-84ed-97c8081d302d"
   },
   "outputs": [
    {
     "data": {
      "text/plain": [
       "<matplotlib.axes._subplots.AxesSubplot at 0x7ff547300e10>"
      ]
     },
     "execution_count": 76,
     "metadata": {
      "tags": []
     },
     "output_type": "execute_result"
    },
    {
     "data": {
      "image/png": "[encoded data removed]",
      "text/plain": [
       "<Figure size 1152x648 with 1 Axes>"
      ]
     },
     "metadata": {
      "tags": []
     },
     "output_type": "display_data"
    }
   ],
   "source": [
    "import matplotlib.pyplot as plt\n",
    "import seaborn as sns\n",
    "\n",
    "# Check if there is imbalance in the classes\n",
    "fig, ax = plt.subplots(figsize=(16, 9))\n",
    "sns.countplot(x='class_code', data=train_csv, ax=ax)"
   ]
  },
  {
   "cell_type": "markdown",
   "metadata": {
    "id": "s0c4tJyOLUd0"
   },
   "source": [
    "It is hard to see becuase of 200 classes but It seems every class has 500 examples and there isn't any imbalance int the dataset"
   ]
  },
  {
   "cell_type": "code",
   "execution_count": null,
   "metadata": {
    "id": "Vz9TI_fKLhTr"
   },
   "outputs": [],
   "source": []
  }
 ],
 "metadata": {
  "colab": {
   "authorship_tag": "ABX9TyN3L76qH9PnGIZZK0IA7wjZ",
   "collapsed_sections": [],
   "name": "input pipeline and basic EDA",
   "provenance": []
  },
  "kernelspec": {
   "display_name": "Python 3",
   "language": "python",
   "name": "python3"
  },
  "language_info": {
   "codemirror_mode": {
    "name": "ipython",
    "version": 3
   },
   "file_extension": ".py",
   "mimetype": "text/x-python",
   "name": "python",
   "nbconvert_exporter": "python",
   "pygments_lexer": "ipython3",
   "version": "3.8.5"
  }
 },
 "nbformat": 4,
 "nbformat_minor": 1
}
